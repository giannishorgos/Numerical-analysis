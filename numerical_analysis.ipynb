{
  "nbformat": 4,
  "nbformat_minor": 0,
  "metadata": {
    "colab": {
      "provenance": [],
      "authorship_tag": "ABX9TyPSh8rA7QG3R4HdrsiRGWAG",
      "include_colab_link": true
    },
    "kernelspec": {
      "name": "python3",
      "display_name": "Python 3"
    },
    "language_info": {
      "name": "python"
    }
  },
  "cells": [
    {
      "cell_type": "markdown",
      "metadata": {
        "id": "view-in-github",
        "colab_type": "text"
      },
      "source": [
        "<a href=\"https://colab.research.google.com/github/giannishorgos/Numerical-analysis/blob/main/numerical_analysis.ipynb\" target=\"_parent\"><img src=\"https://colab.research.google.com/assets/colab-badge.svg\" alt=\"Open In Colab\"/></a>"
      ]
    },
    {
      "cell_type": "markdown",
      "source": [
        "#Factorizations LU and QR#\n",
        "  - LU\n",
        "    - Start with the original square matrix A.\n",
        "\n",
        "      Initialize two empty matrices: L as a lower triangular matrix and U as an upper triangular matrix.\n",
        "\n",
        "      Begin with the first row of A and copy it as the first row of U.\n",
        "\n",
        "      Divide the first row of U by its first element to make the first element of U equal to 1.\n",
        "\n",
        "      For each row below the first row, perform the following steps:\n",
        "\n",
        "      a. For each column in the current row, calculate the values of U by subtracting the appropriate multiples of the elements in the row above.\n",
        "\n",
        "      b. Divide the resulting row of U by its diagonal element to make the diagonal element equal to 1.\n",
        "\n",
        "      c. Store the multipliers used in step 5a in the corresponding positions of L.\n",
        "\n",
        "      Once all the rows and columns have been processed, the matrix U will be an upper triangular matrix, and the matrix L will be a lower triangular matrix with ones on its diagonal.\n",
        "\n",
        "      The matrices L and U obtained from the previous steps represent the LU factorization of the original matrix A.\n",
        "  - QR\n",
        "      - Start with the original matrix A.\n",
        "\n",
        "      Initialize an empty matrix Q as an orthogonal matrix.\n",
        "\n",
        "      Initialize an empty matrix R as an upper triangular matrix.\n",
        "\n",
        "      For each column in A (starting from the first column), perform the following steps:\n",
        "\n",
        "      a. Take the corresponding column vector of A and subtract the projections of that vector onto the previously computed orthogonal basis vectors of Q. This step orthogonalizes the column vector.\n",
        "\n",
        "      b. Normalize the resulting vector to have unit length. This step ensures that the orthogonal vectors form an orthonormal basis.\n",
        "\n",
        "      c. Store the resulting vector as a column in Q.\n",
        "\n",
        "      d. Calculate the coefficients for the linear combination of the orthogonal basis vectors that give the original column vector. These coefficients form the elements of the upper triangular matrix R.\n",
        "\n",
        "      Once all the columns have been processed, the matrix Q will be an orthogonal matrix, and the matrix R will be an upper triangular matrix.\n",
        "\n",
        "      The matrices Q and R obtained from the previous steps represent the QR factorization of the original matrix A.  "
      ],
      "metadata": {
        "id": "LPfo-WgFV9I3"
      }
    },
    {
      "cell_type": "code",
      "source": [
        "# imports\n",
        "import numpy as np\n",
        "import matplotlib.pyplot as plt"
      ],
      "metadata": {
        "id": "FfZeIH-cWdE4"
      },
      "execution_count": null,
      "outputs": []
    },
    {
      "cell_type": "code",
      "source": [
        "# LU \n",
        "def LUmine(A):\n",
        "  n = A.shape[0]\n",
        "  L = np.matrix(np.identity(n))\n",
        "  U = A\n",
        "  for j in range(0, n-1):\n",
        "    for i in range(j+1, n):\n",
        "      mult = A[i, j] / A[j, j]\n",
        "      A[i, j + 1 : n] = A[i, j + 1 : n] - mult * A[j, j + 1 : n] \n",
        "      U[i, j + 1 : n] = A[i, j + 1 : n]\n",
        "      L[i, j] = mult\n",
        "      U[i, j] = 0\n",
        "  return L, U"
      ],
      "metadata": {
        "id": "XkdPt4a3YHqk"
      },
      "execution_count": null,
      "outputs": []
    },
    {
      "cell_type": "code",
      "source": [
        "# QR\n",
        "def QRmine(A):\n",
        "  n = A.shape[0]\n",
        "  # print(n)\n",
        "  Q = np.matrix(np.zeros((n, n)))\n",
        "  for j in range(n):\n",
        "    q = A[:,j]\n",
        "\n",
        "    for i in range(j):\n",
        "      length_of_leg = A[:, j].T * Q[:, i]\n",
        "      q = q - length_of_leg[0, 0] * Q[:, i]\n",
        "\n",
        "    Q[:, j] = q / np.linalg.norm(q)\n",
        "  R = Q.T * A\n",
        "  return Q, R\n",
        "\n",
        "\n"
      ],
      "metadata": {
        "id": "cwirEiNGZ-Ew"
      },
      "execution_count": null,
      "outputs": []
    },
    {
      "cell_type": "code",
      "source": [
        "# Hilber Creation\n",
        "def createHilbert(n):\n",
        "  H = np.matrix([[1 / (i + j + 1) for j in range(n)] for i in range(n)])"
      ],
      "metadata": {
        "id": "xRcSG0UTbiWm"
      },
      "execution_count": null,
      "outputs": []
    },
    {
      "cell_type": "code",
      "source": [
        "A = np.matrix([[1, 2, 54], [4, 5, 23]])\n",
        "Q, R = QRmine(A)\n",
        "print(\"Matrix Q:\")\n",
        "print(Q)\n",
        "print(\"Matrix R:\")\n",
        "print(R)\n",
        "print(f'RES { np.linalg.norm(A - Q*R)}')\n",
        "createHilbert(4)"
      ],
      "metadata": {
        "colab": {
          "base_uri": "https://localhost:8080/"
        },
        "id": "ZHNeYOo3yEnh",
        "outputId": "6d476bd3-80b9-4b74-96a0-1639f6dbfbfc"
      },
      "execution_count": null,
      "outputs": [
        {
          "output_type": "stream",
          "name": "stdout",
          "text": [
            "(1, 2) (2, 1)\n",
            "Matrix Q:\n",
            "[[ 0.24253563  0.9701425 ]\n",
            " [ 0.9701425  -0.24253563]]\n",
            "Matrix R:\n",
            "[[ 4.12310563e+00  5.33578375e+00  3.54102013e+01]\n",
            " [-1.44328993e-15  7.27606875e-01  4.68093756e+01]]\n",
            "RES 1.6102827228051456e-14\n",
            "[[1.         0.5        0.33333333 0.25      ]\n",
            " [0.5        0.33333333 0.25       0.2       ]\n",
            " [0.33333333 0.25       0.2        0.16666667]\n",
            " [0.25       0.2        0.16666667 0.14285714]]\n"
          ]
        }
      ]
    },
    {
      "cell_type": "code",
      "source": [],
      "metadata": {
        "id": "KhoaxZ31cB68"
      },
      "execution_count": null,
      "outputs": []
    }
  ]
}